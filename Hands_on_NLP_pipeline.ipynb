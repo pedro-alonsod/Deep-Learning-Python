{
  "nbformat": 4,
  "nbformat_minor": 0,
  "metadata": {
    "kernelspec": {
      "name": "python3",
      "display_name": "Python 3"
    },
    "colab": {
      "name": "Hands on NLP pipeline.ipynb",
      "provenance": [],
      "include_colab_link": true
    },
    "language_info": {
      "name": "python"
    }
  },
  "cells": [
    {
      "cell_type": "markdown",
      "metadata": {
        "id": "view-in-github",
        "colab_type": "text"
      },
      "source": [
        "<a href=\"https://colab.research.google.com/github/pedro-alonsod/Deep-Learning-Python/blob/master/Hands_on_NLP_pipeline.ipynb\" target=\"_parent\"><img src=\"https://colab.research.google.com/assets/colab-badge.svg\" alt=\"Open In Colab\"/></a>"
      ]
    },
    {
      "cell_type": "markdown",
      "metadata": {
        "id": "Qtdw6XRRD5zM"
      },
      "source": [
        "# Tutorial: NLP pipeline with classification in scikit-learn"
      ]
    },
    {
      "cell_type": "markdown",
      "metadata": {
        "id": "yatosUdMD5zQ"
      },
      "source": [
        "## Agenda\n",
        "\n",
        "\n",
        "1. Representing text as numerical data\n",
        "2. Reading a text-based dataset into pandas\n",
        "3. Vectorizing our dataset\n",
        "4. Building and evaluating a model\n",
        "5. Comparing models\n",
        "6. Examining a model for further insight\n",
        "7. Tuning the vectorizer (discussion)"
      ]
    },
    {
      "cell_type": "markdown",
      "metadata": {
        "id": "7QiE0ajCD5zc"
      },
      "source": [
        "**\"Features\"** are also known as predictors, inputs, or attributes. The **\"response\"** is also known as the target, label, or output."
      ]
    },
    {
      "cell_type": "markdown",
      "metadata": {
        "id": "TafkWyV3D5zh"
      },
      "source": [
        "**\"Observations\"** are also known as samples, instances, or records."
      ]
    },
    {
      "cell_type": "code",
      "metadata": {
        "id": "FvcjBIx7D5zh"
      },
      "source": [
        "import pandas as pd"
      ],
      "execution_count": null,
      "outputs": []
    },
    {
      "cell_type": "markdown",
      "metadata": {
        "id": "mN4fZLkfD5zx"
      },
      "source": [
        "## Part 2: Representing text as numerical data"
      ]
    },
    {
      "cell_type": "code",
      "metadata": {
        "id": "XZEG7QQSD5zy"
      },
      "source": [
        "# example text for model training (SMS messages)\n",
        "simple_train = ['call you tonight', 'Call me a cab', 'please call me... PLEASE!']"
      ],
      "execution_count": null,
      "outputs": []
    },
    {
      "cell_type": "markdown",
      "metadata": {
        "id": "ujlNKioYD5z0"
      },
      "source": [
        "From the [scikit-learn documentation](http://scikit-learn.org/stable/modules/feature_extraction.html#text-feature-extraction):\n",
        "\n",
        "> Text Analysis is a major application field for machine learning algorithms. However the raw data, a sequence of symbols cannot be fed directly to the algorithms themselves as most of them expect **numerical feature vectors with a fixed size** rather than the **raw text documents with variable length**.\n",
        "\n",
        "We will use [CountVectorizer](http://scikit-learn.org/stable/modules/generated/sklearn.feature_extraction.text.CountVectorizer.html) to \"convert text into a matrix of token counts\":"
      ]
    },
    {
      "cell_type": "code",
      "metadata": {
        "id": "iZmwDFLgD5z1"
      },
      "source": [
        "# import and instantiate CountVectorizer (with the default parameters)\n",
        "from sklearn.feature_extraction.text import CountVectorizer\n",
        "vect = CountVectorizer()"
      ],
      "execution_count": null,
      "outputs": []
    },
    {
      "cell_type": "code",
      "metadata": {
        "id": "nPlU195oD5z3",
        "colab": {
          "base_uri": "https://localhost:8080/"
        },
        "outputId": "54eb7688-8d9d-48ff-f141-155e7a30fcc9"
      },
      "source": [
        "# learn the 'vocabulary' of the training data (occurs in-place)\n",
        "vect.fit(simple_train)"
      ],
      "execution_count": null,
      "outputs": [
        {
          "output_type": "execute_result",
          "data": {
            "text/plain": [
              "CountVectorizer(analyzer='word', binary=False, decode_error='strict',\n",
              "                dtype=<class 'numpy.int64'>, encoding='utf-8', input='content',\n",
              "                lowercase=True, max_df=1.0, max_features=None, min_df=1,\n",
              "                ngram_range=(1, 1), preprocessor=None, stop_words=None,\n",
              "                strip_accents=None, token_pattern='(?u)\\\\b\\\\w\\\\w+\\\\b',\n",
              "                tokenizer=None, vocabulary=None)"
            ]
          },
          "metadata": {
            "tags": []
          },
          "execution_count": 4
        }
      ]
    },
    {
      "cell_type": "code",
      "metadata": {
        "id": "-WY8W38CD5z5",
        "colab": {
          "base_uri": "https://localhost:8080/"
        },
        "outputId": "1f75db47-1d58-4834-b540-d6f9b02c95fe"
      },
      "source": [
        "# examine the fitted vocabulary\n",
        "vect.get_feature_names()"
      ],
      "execution_count": null,
      "outputs": [
        {
          "output_type": "execute_result",
          "data": {
            "text/plain": [
              "['cab', 'call', 'me', 'please', 'tonight', 'you']"
            ]
          },
          "metadata": {
            "tags": []
          },
          "execution_count": 5
        }
      ]
    },
    {
      "cell_type": "code",
      "metadata": {
        "id": "_vlSfSmjD5z7",
        "colab": {
          "base_uri": "https://localhost:8080/"
        },
        "outputId": "0e52bb92-0dad-4861-8a14-c48811c0f4e1"
      },
      "source": [
        "# transform training data into a 'document-term matrix'\n",
        "simple_train_dtm = vect.transform(simple_train)\n",
        "simple_train_dtm"
      ],
      "execution_count": null,
      "outputs": [
        {
          "output_type": "execute_result",
          "data": {
            "text/plain": [
              "<3x6 sparse matrix of type '<class 'numpy.int64'>'\n",
              "\twith 9 stored elements in Compressed Sparse Row format>"
            ]
          },
          "metadata": {
            "tags": []
          },
          "execution_count": 6
        }
      ]
    },
    {
      "cell_type": "code",
      "metadata": {
        "id": "Dk_rXG1cD5z-",
        "colab": {
          "base_uri": "https://localhost:8080/"
        },
        "outputId": "1fa26f7d-9e5a-4981-ddce-c071b4cea1cf"
      },
      "source": [
        "# convert sparse matrix to a dense matrix\n",
        "simple_train_dtm.toarray() # ['call you tonight', 'Call me a cab', 'please call me... PLEASE!']"
      ],
      "execution_count": null,
      "outputs": [
        {
          "output_type": "execute_result",
          "data": {
            "text/plain": [
              "array([[0, 1, 0, 0, 1, 1],\n",
              "       [1, 1, 1, 0, 0, 0],\n",
              "       [0, 1, 1, 2, 0, 0]])"
            ]
          },
          "metadata": {
            "tags": []
          },
          "execution_count": 7
        }
      ]
    },
    {
      "cell_type": "code",
      "metadata": {
        "id": "urfEAOzZD50A",
        "colab": {
          "base_uri": "https://localhost:8080/",
          "height": 140
        },
        "outputId": "60acb81d-d91d-43b8-8205-6bc2abe0033a"
      },
      "source": [
        "# examine the vocabulary and document-term matrix together\n",
        "pd.DataFrame(simple_train_dtm.toarray(), columns=vect.get_feature_names())"
      ],
      "execution_count": null,
      "outputs": [
        {
          "output_type": "execute_result",
          "data": {
            "text/html": [
              "<div>\n",
              "<style scoped>\n",
              "    .dataframe tbody tr th:only-of-type {\n",
              "        vertical-align: middle;\n",
              "    }\n",
              "\n",
              "    .dataframe tbody tr th {\n",
              "        vertical-align: top;\n",
              "    }\n",
              "\n",
              "    .dataframe thead th {\n",
              "        text-align: right;\n",
              "    }\n",
              "</style>\n",
              "<table border=\"1\" class=\"dataframe\">\n",
              "  <thead>\n",
              "    <tr style=\"text-align: right;\">\n",
              "      <th></th>\n",
              "      <th>cab</th>\n",
              "      <th>call</th>\n",
              "      <th>me</th>\n",
              "      <th>please</th>\n",
              "      <th>tonight</th>\n",
              "      <th>you</th>\n",
              "    </tr>\n",
              "  </thead>\n",
              "  <tbody>\n",
              "    <tr>\n",
              "      <th>0</th>\n",
              "      <td>0</td>\n",
              "      <td>1</td>\n",
              "      <td>0</td>\n",
              "      <td>0</td>\n",
              "      <td>1</td>\n",
              "      <td>1</td>\n",
              "    </tr>\n",
              "    <tr>\n",
              "      <th>1</th>\n",
              "      <td>1</td>\n",
              "      <td>1</td>\n",
              "      <td>1</td>\n",
              "      <td>0</td>\n",
              "      <td>0</td>\n",
              "      <td>0</td>\n",
              "    </tr>\n",
              "    <tr>\n",
              "      <th>2</th>\n",
              "      <td>0</td>\n",
              "      <td>1</td>\n",
              "      <td>1</td>\n",
              "      <td>2</td>\n",
              "      <td>0</td>\n",
              "      <td>0</td>\n",
              "    </tr>\n",
              "  </tbody>\n",
              "</table>\n",
              "</div>"
            ],
            "text/plain": [
              "   cab  call  me  please  tonight  you\n",
              "0    0     1   0       0        1    1\n",
              "1    1     1   1       0        0    0\n",
              "2    0     1   1       2        0    0"
            ]
          },
          "metadata": {
            "tags": []
          },
          "execution_count": 8
        }
      ]
    },
    {
      "cell_type": "markdown",
      "metadata": {
        "id": "YI6QrGhrD50D"
      },
      "source": [
        "From the [scikit-learn documentation](http://scikit-learn.org/stable/modules/feature_extraction.html#text-feature-extraction):\n",
        "\n",
        "> In this scheme, features and samples are defined as follows:\n",
        "\n",
        "> - Each individual token occurrence frequency (normalized or not) is treated as a **feature**.\n",
        "> - The vector of all the token frequencies for a given document is considered a multivariate **sample**.\n",
        "\n",
        "> A **corpus of documents** can thus be represented by a matrix with **one row per document** and **one column per token** (e.g. word) occurring in the corpus.\n",
        "\n",
        "> We call **vectorization** the general process of turning a collection of text documents into numerical feature vectors. This specific strategy (tokenization, counting and normalization) is called the **Bag of Words** or \"Bag of n-grams\" representation. Documents are described by word occurrences while completely ignoring the relative position information of the words in the document."
      ]
    },
    {
      "cell_type": "markdown",
      "metadata": {
        "id": "99Dgt_RXD50J"
      },
      "source": [
        "From the [scikit-learn documentation](http://scikit-learn.org/stable/modules/feature_extraction.html#text-feature-extraction):\n",
        "\n",
        "> As most documents will typically use a very small subset of the words used in the corpus, the resulting matrix will have **many feature values that are zeros** (typically more than 99% of them).\n",
        "\n",
        "> For instance, a collection of 10,000 short text documents (such as emails) will use a vocabulary with a size in the order of 100,000 unique words in total while each document will use 100 to 1000 unique words individually.\n",
        "\n",
        "> In order to be able to **store such a matrix in memory** but also to **speed up operations**, implementations will typically use a **sparse representation** such as the implementations available in the `scipy.sparse` package."
      ]
    },
    {
      "cell_type": "code",
      "metadata": {
        "id": "p25VT7vfD50K"
      },
      "source": [
        "# example text for model testing\n",
        "simple_test = [\"please don't call me\"]"
      ],
      "execution_count": null,
      "outputs": []
    },
    {
      "cell_type": "markdown",
      "metadata": {
        "id": "IHwhnbXjD50O"
      },
      "source": [
        "In order to **make a prediction**, the new observation must have the **same features as the training observations**, both in number and meaning."
      ]
    },
    {
      "cell_type": "code",
      "metadata": {
        "id": "niUTnSIwD50O",
        "colab": {
          "base_uri": "https://localhost:8080/"
        },
        "outputId": "3a58cfbf-d469-4b00-98fd-930092adda5b"
      },
      "source": [
        "# transform testing data into a document-term matrix (using existing vocabulary)\n",
        "simple_test_dtm = vect.transform(simple_test)\n",
        "simple_test_dtm.toarray()"
      ],
      "execution_count": null,
      "outputs": [
        {
          "output_type": "execute_result",
          "data": {
            "text/plain": [
              "array([[0, 1, 1, 1, 0, 0]])"
            ]
          },
          "metadata": {
            "tags": []
          },
          "execution_count": 10
        }
      ]
    },
    {
      "cell_type": "code",
      "metadata": {
        "id": "Y35KIMRyD50Q",
        "colab": {
          "base_uri": "https://localhost:8080/",
          "height": 79
        },
        "outputId": "bc046ea0-01f8-4041-dd42-7d695490c9ff"
      },
      "source": [
        "# examine the vocabulary and document-term matrix together\n",
        "import pandas as pd\n",
        "pd.DataFrame(simple_test_dtm.toarray(), columns=vect.get_feature_names())"
      ],
      "execution_count": null,
      "outputs": [
        {
          "output_type": "execute_result",
          "data": {
            "text/html": [
              "<div>\n",
              "<style scoped>\n",
              "    .dataframe tbody tr th:only-of-type {\n",
              "        vertical-align: middle;\n",
              "    }\n",
              "\n",
              "    .dataframe tbody tr th {\n",
              "        vertical-align: top;\n",
              "    }\n",
              "\n",
              "    .dataframe thead th {\n",
              "        text-align: right;\n",
              "    }\n",
              "</style>\n",
              "<table border=\"1\" class=\"dataframe\">\n",
              "  <thead>\n",
              "    <tr style=\"text-align: right;\">\n",
              "      <th></th>\n",
              "      <th>cab</th>\n",
              "      <th>call</th>\n",
              "      <th>me</th>\n",
              "      <th>please</th>\n",
              "      <th>tonight</th>\n",
              "      <th>you</th>\n",
              "    </tr>\n",
              "  </thead>\n",
              "  <tbody>\n",
              "    <tr>\n",
              "      <th>0</th>\n",
              "      <td>0</td>\n",
              "      <td>1</td>\n",
              "      <td>1</td>\n",
              "      <td>1</td>\n",
              "      <td>0</td>\n",
              "      <td>0</td>\n",
              "    </tr>\n",
              "  </tbody>\n",
              "</table>\n",
              "</div>"
            ],
            "text/plain": [
              "   cab  call  me  please  tonight  you\n",
              "0    0     1   1       1        0    0"
            ]
          },
          "metadata": {
            "tags": []
          },
          "execution_count": 11
        }
      ]
    },
    {
      "cell_type": "markdown",
      "metadata": {
        "id": "VDo1TjZSD50U"
      },
      "source": [
        "**Summary:**\n",
        "\n",
        "- `vect.fit(train)` **learns the vocabulary** of the training data\n",
        "- `vect.transform(train)` uses the **fitted vocabulary** to build a document-term matrix from the training data\n",
        "- `vect.transform(test)` uses the **fitted vocabulary** to build a document-term matrix from the testing data (and **ignores tokens** it hasn't seen before)"
      ]
    },
    {
      "cell_type": "markdown",
      "metadata": {
        "id": "zUzYKduoD50V"
      },
      "source": [
        "## Part 3: Reading a text-based dataset into pandas"
      ]
    },
    {
      "cell_type": "code",
      "metadata": {
        "id": "vvQwlPswEQZB",
        "colab": {
          "base_uri": "https://localhost:8080/"
        },
        "outputId": "5fc03b2a-1e8b-4139-f762-d7f4b05ff06d"
      },
      "source": [
        "! git clone https://github.com/falaktheoptimist/pycon-2016-tutorial/"
      ],
      "execution_count": null,
      "outputs": [
        {
          "output_type": "stream",
          "text": [
            "fatal: destination path 'pycon-2016-tutorial' already exists and is not an empty directory.\n"
          ],
          "name": "stdout"
        }
      ]
    },
    {
      "cell_type": "code",
      "metadata": {
        "id": "2sqqgk-DD50W"
      },
      "source": [
        "# read file into pandas using a relative path\n",
        "path = 'pycon-2016-tutorial/data/sms.tsv'\n",
        "sms = pd.read_table(path, header=None, names=['label', 'message'])"
      ],
      "execution_count": null,
      "outputs": []
    },
    {
      "cell_type": "code",
      "metadata": {
        "id": "6BuMpEmrD50c",
        "colab": {
          "base_uri": "https://localhost:8080/",
          "height": 201
        },
        "outputId": "9a3f4bd3-c93d-483f-86a2-53eb45006cb4"
      },
      "source": [
        "# examine the first 10 rows\n",
        "sms.head(5)"
      ],
      "execution_count": null,
      "outputs": [
        {
          "output_type": "execute_result",
          "data": {
            "text/html": [
              "<div>\n",
              "<style scoped>\n",
              "    .dataframe tbody tr th:only-of-type {\n",
              "        vertical-align: middle;\n",
              "    }\n",
              "\n",
              "    .dataframe tbody tr th {\n",
              "        vertical-align: top;\n",
              "    }\n",
              "\n",
              "    .dataframe thead th {\n",
              "        text-align: right;\n",
              "    }\n",
              "</style>\n",
              "<table border=\"1\" class=\"dataframe\">\n",
              "  <thead>\n",
              "    <tr style=\"text-align: right;\">\n",
              "      <th></th>\n",
              "      <th>label</th>\n",
              "      <th>message</th>\n",
              "    </tr>\n",
              "  </thead>\n",
              "  <tbody>\n",
              "    <tr>\n",
              "      <th>0</th>\n",
              "      <td>ham</td>\n",
              "      <td>Go until jurong point, crazy.. Available only ...</td>\n",
              "    </tr>\n",
              "    <tr>\n",
              "      <th>1</th>\n",
              "      <td>ham</td>\n",
              "      <td>Ok lar... Joking wif u oni...</td>\n",
              "    </tr>\n",
              "    <tr>\n",
              "      <th>2</th>\n",
              "      <td>spam</td>\n",
              "      <td>Free entry in 2 a wkly comp to win FA Cup fina...</td>\n",
              "    </tr>\n",
              "    <tr>\n",
              "      <th>3</th>\n",
              "      <td>ham</td>\n",
              "      <td>U dun say so early hor... U c already then say...</td>\n",
              "    </tr>\n",
              "    <tr>\n",
              "      <th>4</th>\n",
              "      <td>ham</td>\n",
              "      <td>Nah I don't think he goes to usf, he lives aro...</td>\n",
              "    </tr>\n",
              "  </tbody>\n",
              "</table>\n",
              "</div>"
            ],
            "text/plain": [
              "  label                                            message\n",
              "0   ham  Go until jurong point, crazy.. Available only ...\n",
              "1   ham                      Ok lar... Joking wif u oni...\n",
              "2  spam  Free entry in 2 a wkly comp to win FA Cup fina...\n",
              "3   ham  U dun say so early hor... U c already then say...\n",
              "4   ham  Nah I don't think he goes to usf, he lives aro..."
            ]
          },
          "metadata": {
            "tags": []
          },
          "execution_count": 14
        }
      ]
    },
    {
      "cell_type": "code",
      "metadata": {
        "id": "KQ9G0r_4D50e",
        "colab": {
          "base_uri": "https://localhost:8080/"
        },
        "outputId": "b9804e66-a80d-435c-d99f-0ee75e6c1053"
      },
      "source": [
        "# examine the class distribution\n",
        "sms.label.value_counts()"
      ],
      "execution_count": null,
      "outputs": [
        {
          "output_type": "execute_result",
          "data": {
            "text/plain": [
              "ham     4825\n",
              "spam     747\n",
              "Name: label, dtype: int64"
            ]
          },
          "metadata": {
            "tags": []
          },
          "execution_count": 15
        }
      ]
    },
    {
      "cell_type": "code",
      "metadata": {
        "id": "OLyuJXvMD50g"
      },
      "source": [
        "# convert label to a numerical variable\n",
        "sms['label_num'] = sms.label.map({'ham':0, 'spam':1})"
      ],
      "execution_count": null,
      "outputs": []
    },
    {
      "cell_type": "code",
      "metadata": {
        "id": "i-4A4nL3D50i",
        "colab": {
          "base_uri": "https://localhost:8080/",
          "height": 354
        },
        "outputId": "2883efa0-3786-4bcd-e7eb-aec676ad09e8"
      },
      "source": [
        "# check that the conversion worked\n",
        "sms.head(10)"
      ],
      "execution_count": null,
      "outputs": [
        {
          "output_type": "execute_result",
          "data": {
            "text/html": [
              "<div>\n",
              "<style scoped>\n",
              "    .dataframe tbody tr th:only-of-type {\n",
              "        vertical-align: middle;\n",
              "    }\n",
              "\n",
              "    .dataframe tbody tr th {\n",
              "        vertical-align: top;\n",
              "    }\n",
              "\n",
              "    .dataframe thead th {\n",
              "        text-align: right;\n",
              "    }\n",
              "</style>\n",
              "<table border=\"1\" class=\"dataframe\">\n",
              "  <thead>\n",
              "    <tr style=\"text-align: right;\">\n",
              "      <th></th>\n",
              "      <th>label</th>\n",
              "      <th>message</th>\n",
              "      <th>label_num</th>\n",
              "    </tr>\n",
              "  </thead>\n",
              "  <tbody>\n",
              "    <tr>\n",
              "      <th>0</th>\n",
              "      <td>ham</td>\n",
              "      <td>Go until jurong point, crazy.. Available only ...</td>\n",
              "      <td>0</td>\n",
              "    </tr>\n",
              "    <tr>\n",
              "      <th>1</th>\n",
              "      <td>ham</td>\n",
              "      <td>Ok lar... Joking wif u oni...</td>\n",
              "      <td>0</td>\n",
              "    </tr>\n",
              "    <tr>\n",
              "      <th>2</th>\n",
              "      <td>spam</td>\n",
              "      <td>Free entry in 2 a wkly comp to win FA Cup fina...</td>\n",
              "      <td>1</td>\n",
              "    </tr>\n",
              "    <tr>\n",
              "      <th>3</th>\n",
              "      <td>ham</td>\n",
              "      <td>U dun say so early hor... U c already then say...</td>\n",
              "      <td>0</td>\n",
              "    </tr>\n",
              "    <tr>\n",
              "      <th>4</th>\n",
              "      <td>ham</td>\n",
              "      <td>Nah I don't think he goes to usf, he lives aro...</td>\n",
              "      <td>0</td>\n",
              "    </tr>\n",
              "    <tr>\n",
              "      <th>5</th>\n",
              "      <td>spam</td>\n",
              "      <td>FreeMsg Hey there darling it's been 3 week's n...</td>\n",
              "      <td>1</td>\n",
              "    </tr>\n",
              "    <tr>\n",
              "      <th>6</th>\n",
              "      <td>ham</td>\n",
              "      <td>Even my brother is not like to speak with me. ...</td>\n",
              "      <td>0</td>\n",
              "    </tr>\n",
              "    <tr>\n",
              "      <th>7</th>\n",
              "      <td>ham</td>\n",
              "      <td>As per your request 'Melle Melle (Oru Minnamin...</td>\n",
              "      <td>0</td>\n",
              "    </tr>\n",
              "    <tr>\n",
              "      <th>8</th>\n",
              "      <td>spam</td>\n",
              "      <td>WINNER!! As a valued network customer you have...</td>\n",
              "      <td>1</td>\n",
              "    </tr>\n",
              "    <tr>\n",
              "      <th>9</th>\n",
              "      <td>spam</td>\n",
              "      <td>Had your mobile 11 months or more? U R entitle...</td>\n",
              "      <td>1</td>\n",
              "    </tr>\n",
              "  </tbody>\n",
              "</table>\n",
              "</div>"
            ],
            "text/plain": [
              "  label                                            message  label_num\n",
              "0   ham  Go until jurong point, crazy.. Available only ...          0\n",
              "1   ham                      Ok lar... Joking wif u oni...          0\n",
              "2  spam  Free entry in 2 a wkly comp to win FA Cup fina...          1\n",
              "3   ham  U dun say so early hor... U c already then say...          0\n",
              "4   ham  Nah I don't think he goes to usf, he lives aro...          0\n",
              "5  spam  FreeMsg Hey there darling it's been 3 week's n...          1\n",
              "6   ham  Even my brother is not like to speak with me. ...          0\n",
              "7   ham  As per your request 'Melle Melle (Oru Minnamin...          0\n",
              "8  spam  WINNER!! As a valued network customer you have...          1\n",
              "9  spam  Had your mobile 11 months or more? U R entitle...          1"
            ]
          },
          "metadata": {
            "tags": []
          },
          "execution_count": 17
        }
      ]
    },
    {
      "cell_type": "code",
      "metadata": {
        "id": "Zp5SNKEpD50l"
      },
      "source": [
        "# how to define X and y (from the iris data) for use with a MODEL\n",
        "# X = iris.data\n",
        "# y = iris.target\n",
        "# print(X.shape)\n",
        "# print(y.shape)"
      ],
      "execution_count": null,
      "outputs": []
    },
    {
      "cell_type": "code",
      "metadata": {
        "id": "lGuz45mZD50n",
        "colab": {
          "base_uri": "https://localhost:8080/"
        },
        "outputId": "3427cca9-c30b-40d8-8d45-1d4b0e7830de"
      },
      "source": [
        "# how to define X and y (from the SMS data) for use with COUNTVECTORIZER\n",
        "X = sms.message\n",
        "y = sms.label_num\n",
        "print(X.shape)\n",
        "print(y.shape)"
      ],
      "execution_count": null,
      "outputs": [
        {
          "output_type": "stream",
          "text": [
            "(5572,)\n",
            "(5572,)\n"
          ],
          "name": "stdout"
        }
      ]
    },
    {
      "cell_type": "code",
      "metadata": {
        "id": "8MJfpXs2D50q",
        "colab": {
          "base_uri": "https://localhost:8080/"
        },
        "outputId": "78e3bf00-61ca-4453-95e1-92837674c750"
      },
      "source": [
        "# split X and y into training and testing sets\n",
        "from sklearn.model_selection import train_test_split\n",
        "X_train, X_test, y_train, y_test = train_test_split(X, y, random_state=1)\n",
        "print(X_train.shape)\n",
        "print(X_test.shape)\n",
        "print(y_train.shape)\n",
        "print(y_test.shape)"
      ],
      "execution_count": null,
      "outputs": [
        {
          "output_type": "stream",
          "text": [
            "(4179,)\n",
            "(1393,)\n",
            "(4179,)\n",
            "(1393,)\n"
          ],
          "name": "stdout"
        }
      ]
    },
    {
      "cell_type": "markdown",
      "metadata": {
        "id": "aOP0ufISD50r"
      },
      "source": [
        "## Part 4: Vectorizing our dataset"
      ]
    },
    {
      "cell_type": "code",
      "metadata": {
        "id": "-q1epvTiD50s"
      },
      "source": [
        "# instantiate the vectorizer\n",
        "vect = CountVectorizer()"
      ],
      "execution_count": null,
      "outputs": []
    },
    {
      "cell_type": "code",
      "metadata": {
        "id": "qylvnoXkD50u"
      },
      "source": [
        "# learn training data vocabulary, then use it to create a document-term matrix\n",
        "vect.fit(X_train)\n",
        "X_train_dtm = vect.transform(X_train)"
      ],
      "execution_count": null,
      "outputs": []
    },
    {
      "cell_type": "code",
      "metadata": {
        "id": "ag0FYkaSD50x"
      },
      "source": [
        "# equivalently: combine fit and transform into a single step\n",
        "X_train_dtm = vect.fit_transform(X_train)"
      ],
      "execution_count": null,
      "outputs": []
    },
    {
      "cell_type": "code",
      "metadata": {
        "id": "KfGDpPHJD50z",
        "colab": {
          "base_uri": "https://localhost:8080/"
        },
        "outputId": "883cefa0-eadf-4c6b-da91-734d34c74df5"
      },
      "source": [
        "# examine the document-term matrix\n",
        "X_train_dtm"
      ],
      "execution_count": null,
      "outputs": [
        {
          "output_type": "execute_result",
          "data": {
            "text/plain": [
              "<4179x7456 sparse matrix of type '<class 'numpy.int64'>'\n",
              "\twith 55209 stored elements in Compressed Sparse Row format>"
            ]
          },
          "metadata": {
            "tags": []
          },
          "execution_count": 24
        }
      ]
    },
    {
      "cell_type": "code",
      "metadata": {
        "id": "Ki_5E1DaD501",
        "colab": {
          "base_uri": "https://localhost:8080/"
        },
        "outputId": "2648873e-80d7-400f-d403-b2e161e4cb58"
      },
      "source": [
        "# transform testing data (using fitted vocabulary) into a document-term matrix\n",
        "X_test_dtm = vect.transform(X_test)\n",
        "X_test_dtm"
      ],
      "execution_count": null,
      "outputs": [
        {
          "output_type": "execute_result",
          "data": {
            "text/plain": [
              "<1393x7456 sparse matrix of type '<class 'numpy.int64'>'\n",
              "\twith 17604 stored elements in Compressed Sparse Row format>"
            ]
          },
          "metadata": {
            "tags": []
          },
          "execution_count": 25
        }
      ]
    },
    {
      "cell_type": "markdown",
      "metadata": {
        "id": "PKwHmyu9D503"
      },
      "source": [
        "## Part 5: Building and evaluating a model\n",
        "\n",
        "We will use [multinomial Naive Bayes](http://scikit-learn.org/stable/modules/generated/sklearn.naive_bayes.MultinomialNB.html):\n",
        "\n",
        "> The multinomial Naive Bayes classifier is suitable for classification with **discrete features** (e.g., word counts for text classification). The multinomial distribution normally requires integer feature counts. However, in practice, fractional counts such as tf-idf may also work."
      ]
    },
    {
      "cell_type": "code",
      "metadata": {
        "id": "qFyLMnIMD504"
      },
      "source": [
        "# import and instantiate a Multinomial Naive Bayes model\n",
        "from sklearn.naive_bayes import MultinomialNB\n",
        "nb = MultinomialNB()"
      ],
      "execution_count": null,
      "outputs": []
    },
    {
      "cell_type": "code",
      "metadata": {
        "id": "g3l4fAqOD506",
        "colab": {
          "base_uri": "https://localhost:8080/"
        },
        "outputId": "53f4bbb7-f91a-4cfc-e7dd-2bb01b3bb66a"
      },
      "source": [
        "# train the model using X_train_dtm (timing it with an IPython \"magic command\")\n",
        "%time nb.fit(X_train_dtm, y_train)"
      ],
      "execution_count": null,
      "outputs": [
        {
          "output_type": "stream",
          "text": [
            "CPU times: user 4.5 ms, sys: 110 µs, total: 4.61 ms\n",
            "Wall time: 6.48 ms\n"
          ],
          "name": "stdout"
        },
        {
          "output_type": "execute_result",
          "data": {
            "text/plain": [
              "MultinomialNB(alpha=1.0, class_prior=None, fit_prior=True)"
            ]
          },
          "metadata": {
            "tags": []
          },
          "execution_count": 27
        }
      ]
    },
    {
      "cell_type": "code",
      "metadata": {
        "id": "e3OGOf0uD509"
      },
      "source": [
        "# make class predictions for X_test_dtm\n",
        "y_pred_class = nb.predict(X_test_dtm)"
      ],
      "execution_count": null,
      "outputs": []
    },
    {
      "cell_type": "code",
      "metadata": {
        "id": "yuCUqeQtD51A",
        "colab": {
          "base_uri": "https://localhost:8080/"
        },
        "outputId": "973fc83e-5543-4831-deab-27b098f7e5cd"
      },
      "source": [
        "# calculate accuracy of class predictions\n",
        "from sklearn import metrics\n",
        "metrics.accuracy_score(y_test, y_pred_class)"
      ],
      "execution_count": null,
      "outputs": [
        {
          "output_type": "execute_result",
          "data": {
            "text/plain": [
              "0.9885139985642498"
            ]
          },
          "metadata": {
            "tags": []
          },
          "execution_count": 29
        }
      ]
    },
    {
      "cell_type": "code",
      "metadata": {
        "id": "PjPfZ_hDD51F",
        "colab": {
          "base_uri": "https://localhost:8080/"
        },
        "outputId": "b8b4dfa2-4f9b-47a1-be66-0e071916733a"
      },
      "source": [
        "# print the confusion matrix\n",
        "metrics.confusion_matrix(y_test, y_pred_class)"
      ],
      "execution_count": null,
      "outputs": [
        {
          "output_type": "execute_result",
          "data": {
            "text/plain": [
              "array([[1203,    5],\n",
              "       [  11,  174]])"
            ]
          },
          "metadata": {
            "tags": []
          },
          "execution_count": 30
        }
      ]
    },
    {
      "cell_type": "code",
      "metadata": {
        "id": "XFBXLwzsD51H"
      },
      "source": [
        "# print message text for the false positives (ham incorrectly classified as spam)\n"
      ],
      "execution_count": null,
      "outputs": []
    },
    {
      "cell_type": "code",
      "metadata": {
        "scrolled": true,
        "id": "OmiS1Ls7D51J"
      },
      "source": [
        "# print message text for the false negatives (spam incorrectly classified as ham)\n",
        "# import numpy as np\n",
        "# np.where(np.logical_and(y_pred_class==1, y_test==1))\n",
        "# X_test.values[18]"
      ],
      "execution_count": null,
      "outputs": []
    },
    {
      "cell_type": "code",
      "metadata": {
        "scrolled": true,
        "id": "5wscnNFUD51L",
        "colab": {
          "base_uri": "https://localhost:8080/"
        },
        "outputId": "1ada81d6-212c-4006-e964-dd07934e114b"
      },
      "source": [
        "# example false negative\n",
        "nb.predict(vect.transform([\"You are the winner of this lottery claim soon\"]))"
      ],
      "execution_count": null,
      "outputs": [
        {
          "output_type": "execute_result",
          "data": {
            "text/plain": [
              "array([1])"
            ]
          },
          "metadata": {
            "tags": []
          },
          "execution_count": 33
        }
      ]
    },
    {
      "cell_type": "code",
      "metadata": {
        "id": "Rj5OnL1UU5VH"
      },
      "source": [
        ""
      ],
      "execution_count": null,
      "outputs": []
    },
    {
      "cell_type": "code",
      "metadata": {
        "id": "4KqAwwCCD51Q",
        "colab": {
          "base_uri": "https://localhost:8080/"
        },
        "outputId": "ed674b3f-9ec4-4da2-afda-12b01306491f"
      },
      "source": [
        "# calculate predicted probabilities for X_test_dtm (poorly calibrated)\n",
        "y_pred_prob = nb.predict_proba(X_test_dtm)[:, 1]\n",
        "y_pred_prob"
      ],
      "execution_count": null,
      "outputs": [
        {
          "output_type": "execute_result",
          "data": {
            "text/plain": [
              "array([2.87744864e-03, 1.83488846e-05, 2.07301295e-03, ...,\n",
              "       1.09026171e-06, 1.00000000e+00, 3.98279868e-09])"
            ]
          },
          "metadata": {
            "tags": []
          },
          "execution_count": 34
        }
      ]
    },
    {
      "cell_type": "code",
      "metadata": {
        "id": "u126U-3RD51T",
        "colab": {
          "base_uri": "https://localhost:8080/"
        },
        "outputId": "9428d233-08bf-40fd-ac08-72fe5d57bc47"
      },
      "source": [
        "# calculate AUC\n",
        "metrics.roc_auc_score(y_test, y_pred_prob)"
      ],
      "execution_count": null,
      "outputs": [
        {
          "output_type": "execute_result",
          "data": {
            "text/plain": [
              "0.9866431000536962"
            ]
          },
          "metadata": {
            "tags": []
          },
          "execution_count": 35
        }
      ]
    },
    {
      "cell_type": "markdown",
      "metadata": {
        "id": "nE6K60SaD51X"
      },
      "source": [
        "## Part 6: Comparing models\n",
        "\n",
        "We will compare multinomial Naive Bayes with [logistic regression](http://scikit-learn.org/stable/modules/linear_model.html#logistic-regression):\n",
        "\n",
        "> Logistic regression, despite its name, is a **linear model for classification** rather than regression. Logistic regression is also known in the literature as logit regression, maximum-entropy classification (MaxEnt) or the log-linear classifier. In this model, the probabilities describing the possible outcomes of a single trial are modeled using a logistic function."
      ]
    },
    {
      "cell_type": "code",
      "metadata": {
        "id": "PnsviF9PD51Y"
      },
      "source": [
        "# import and instantiate a logistic regression model\n",
        "from sklearn.linear_model import LogisticRegression\n",
        "logreg = LogisticRegression()"
      ],
      "execution_count": null,
      "outputs": []
    },
    {
      "cell_type": "code",
      "metadata": {
        "id": "61WW8CnVD51b",
        "colab": {
          "base_uri": "https://localhost:8080/"
        },
        "outputId": "6acce99a-a41c-44f9-84c5-31d80cbb9a41"
      },
      "source": [
        "# train the model using X_train_dtm\n",
        "%time logreg.fit(X_train_dtm, y_train)"
      ],
      "execution_count": null,
      "outputs": [
        {
          "output_type": "stream",
          "text": [
            "CPU times: user 80.6 ms, sys: 2.89 ms, total: 83.5 ms\n",
            "Wall time: 84.8 ms\n"
          ],
          "name": "stdout"
        },
        {
          "output_type": "execute_result",
          "data": {
            "text/plain": [
              "LogisticRegression(C=1.0, class_weight=None, dual=False, fit_intercept=True,\n",
              "                   intercept_scaling=1, l1_ratio=None, max_iter=100,\n",
              "                   multi_class='auto', n_jobs=None, penalty='l2',\n",
              "                   random_state=None, solver='lbfgs', tol=0.0001, verbose=0,\n",
              "                   warm_start=False)"
            ]
          },
          "metadata": {
            "tags": []
          },
          "execution_count": 37
        }
      ]
    },
    {
      "cell_type": "code",
      "metadata": {
        "id": "je8tK5kRD51c"
      },
      "source": [
        "# make class predictions for X_test_dtm\n",
        "y_pred_class = logreg.predict(X_test_dtm)"
      ],
      "execution_count": null,
      "outputs": []
    },
    {
      "cell_type": "code",
      "metadata": {
        "id": "YgClgsouD51e",
        "colab": {
          "base_uri": "https://localhost:8080/"
        },
        "outputId": "cc35581b-d509-4f42-caee-c76b77b7917e"
      },
      "source": [
        "# calculate predicted probabilities for X_test_dtm (well calibrated)\n",
        "y_pred_prob = logreg.predict_proba(X_test_dtm)[:, 1]\n",
        "y_pred_prob"
      ],
      "execution_count": null,
      "outputs": [
        {
          "output_type": "execute_result",
          "data": {
            "text/plain": [
              "array([0.00959377, 0.00295662, 0.00452424, ..., 0.031302  , 0.99748962,\n",
              "       0.00119521])"
            ]
          },
          "metadata": {
            "tags": []
          },
          "execution_count": 39
        }
      ]
    },
    {
      "cell_type": "code",
      "metadata": {
        "id": "uNOldebQD51g",
        "colab": {
          "base_uri": "https://localhost:8080/"
        },
        "outputId": "437eb834-3f0c-4270-f3bb-7154866962bd"
      },
      "source": [
        "# calculate accuracy\n",
        "metrics.accuracy_score(y_test, y_pred_class)"
      ],
      "execution_count": null,
      "outputs": [
        {
          "output_type": "execute_result",
          "data": {
            "text/plain": [
              "0.9877961234745154"
            ]
          },
          "metadata": {
            "tags": []
          },
          "execution_count": 40
        }
      ]
    },
    {
      "cell_type": "code",
      "metadata": {
        "id": "PNuzpMN_D51i",
        "colab": {
          "base_uri": "https://localhost:8080/"
        },
        "outputId": "a779509d-72c2-4eb0-9c96-24ca7b6daadd"
      },
      "source": [
        "# calculate AUC\n",
        "metrics.roc_auc_score(y_test, y_pred_prob)"
      ],
      "execution_count": null,
      "outputs": [
        {
          "output_type": "execute_result",
          "data": {
            "text/plain": [
              "0.9936280651512441"
            ]
          },
          "metadata": {
            "tags": []
          },
          "execution_count": 41
        }
      ]
    },
    {
      "cell_type": "markdown",
      "metadata": {
        "id": "-mRUvzHyD51m"
      },
      "source": [
        "## Part 7: Examining a model for further insight\n",
        "\n",
        "We will examine the our **trained Naive Bayes model** to calculate the approximate **\"spamminess\" of each token**."
      ]
    },
    {
      "cell_type": "code",
      "metadata": {
        "id": "ORcvoZFRD51m",
        "colab": {
          "base_uri": "https://localhost:8080/"
        },
        "outputId": "becc4803-b0b4-420a-c424-27248bdedbec"
      },
      "source": [
        "# store the vocabulary of X_train\n",
        "X_train_tokens = vect.get_feature_names()\n",
        "len(X_train_tokens)"
      ],
      "execution_count": null,
      "outputs": [
        {
          "output_type": "execute_result",
          "data": {
            "text/plain": [
              "7456"
            ]
          },
          "metadata": {
            "tags": []
          },
          "execution_count": 42
        }
      ]
    },
    {
      "cell_type": "code",
      "metadata": {
        "scrolled": true,
        "id": "s_agfPfoD51o",
        "colab": {
          "base_uri": "https://localhost:8080/"
        },
        "outputId": "3a868755-68c8-4c4c-f40b-003750056f69"
      },
      "source": [
        "# examine the first 50 tokens\n",
        "print(X_train_tokens[0:50])"
      ],
      "execution_count": null,
      "outputs": [
        {
          "output_type": "stream",
          "text": [
            "['00', '000', '008704050406', '0121', '01223585236', '01223585334', '0125698789', '02', '0207', '02072069400', '02073162414', '02085076972', '021', '03', '04', '0430', '05', '050703', '0578', '06', '07', '07008009200', '07090201529', '07090298926', '07123456789', '07732584351', '07734396839', '07742676969', '0776xxxxxxx', '07781482378', '07786200117', '078', '07801543489', '07808', '07808247860', '07808726822', '07815296484', '07821230901', '07880867867', '0789xxxxxxx', '07946746291', '0796xxxxxx', '07973788240', '07xxxxxxxxx', '08', '0800', '08000407165', '08000776320', '08000839402', '08000930705']\n"
          ],
          "name": "stdout"
        }
      ]
    },
    {
      "cell_type": "code",
      "metadata": {
        "id": "qezX_UoPD51q",
        "colab": {
          "base_uri": "https://localhost:8080/"
        },
        "outputId": "1bc32b44-5269-4679-a8d4-648bdae18fea"
      },
      "source": [
        "# examine the last 50 tokens\n",
        "print(X_train_tokens[-50:])"
      ],
      "execution_count": null,
      "outputs": [
        {
          "output_type": "stream",
          "text": [
            "['yer', 'yes', 'yest', 'yesterday', 'yet', 'yetunde', 'yijue', 'ym', 'ymca', 'yo', 'yoga', 'yogasana', 'yor', 'yorge', 'you', 'youdoing', 'youi', 'youphone', 'your', 'youre', 'yourjob', 'yours', 'yourself', 'youwanna', 'yowifes', 'yoyyooo', 'yr', 'yrs', 'ything', 'yummmm', 'yummy', 'yun', 'yunny', 'yuo', 'yuou', 'yup', 'zac', 'zaher', 'zealand', 'zebra', 'zed', 'zeros', 'zhong', 'zindgi', 'zoe', 'zoom', 'zouk', 'zyada', 'èn', '〨ud']\n"
          ],
          "name": "stdout"
        }
      ]
    },
    {
      "cell_type": "code",
      "metadata": {
        "id": "kQYC_ZR-D51r",
        "colab": {
          "base_uri": "https://localhost:8080/"
        },
        "outputId": "c8be29c3-0279-4248-f20d-576d4b3f63f6"
      },
      "source": [
        "# Naive Bayes counts the number of times each token appears in each class\n",
        "nb.feature_count_"
      ],
      "execution_count": null,
      "outputs": [
        {
          "output_type": "execute_result",
          "data": {
            "text/plain": [
              "array([[ 0.,  0.,  0., ...,  1.,  1.,  1.],\n",
              "       [ 5., 23.,  2., ...,  0.,  0.,  0.]])"
            ]
          },
          "metadata": {
            "tags": []
          },
          "execution_count": 45
        }
      ]
    },
    {
      "cell_type": "code",
      "metadata": {
        "id": "643BESv0D51t",
        "colab": {
          "base_uri": "https://localhost:8080/"
        },
        "outputId": "cfe2128b-c734-440c-96a3-e6908a77a0ae"
      },
      "source": [
        "# rows represent classes, columns represent tokens\n",
        "nb.feature_count_.shape"
      ],
      "execution_count": null,
      "outputs": [
        {
          "output_type": "execute_result",
          "data": {
            "text/plain": [
              "(2, 7456)"
            ]
          },
          "metadata": {
            "tags": []
          },
          "execution_count": 46
        }
      ]
    },
    {
      "cell_type": "code",
      "metadata": {
        "id": "Yluv_ibGD51v",
        "colab": {
          "base_uri": "https://localhost:8080/"
        },
        "outputId": "7ff51072-1717-404f-8b3d-3eae0c55311e"
      },
      "source": [
        "# number of times each token appears across all HAM messages\n",
        "ham_token_count = nb.feature_count_[0, :]\n",
        "ham_token_count"
      ],
      "execution_count": null,
      "outputs": [
        {
          "output_type": "execute_result",
          "data": {
            "text/plain": [
              "array([0., 0., 0., ..., 1., 1., 1.])"
            ]
          },
          "metadata": {
            "tags": []
          },
          "execution_count": 47
        }
      ]
    },
    {
      "cell_type": "code",
      "metadata": {
        "id": "CAQwe3w3D51y",
        "colab": {
          "base_uri": "https://localhost:8080/"
        },
        "outputId": "d8a6dd7c-ac62-449f-b958-e7588d8e4d10"
      },
      "source": [
        "# number of times each token appears across all SPAM messages\n",
        "spam_token_count = nb.feature_count_[1, :]\n",
        "spam_token_count"
      ],
      "execution_count": null,
      "outputs": [
        {
          "output_type": "execute_result",
          "data": {
            "text/plain": [
              "array([ 5., 23.,  2., ...,  0.,  0.,  0.])"
            ]
          },
          "metadata": {
            "tags": []
          },
          "execution_count": 48
        }
      ]
    },
    {
      "cell_type": "code",
      "metadata": {
        "id": "T9aZQGooD51z"
      },
      "source": [
        "# create a DataFrame of tokens with their separate ham and spam counts\n",
        "tokens = pd.DataFrame({'token':X_train_tokens, 'ham':ham_token_count, 'spam':spam_token_count}).set_index('token')"
      ],
      "execution_count": null,
      "outputs": []
    },
    {
      "cell_type": "code",
      "metadata": {
        "id": "80SDnBRoD511",
        "colab": {
          "base_uri": "https://localhost:8080/",
          "height": 231
        },
        "outputId": "3b27f9e2-b5e0-4fe4-991d-474ffec594ca"
      },
      "source": [
        "# examine 5 random DataFrame rows\n",
        "tokens.sample(5, random_state=6)"
      ],
      "execution_count": null,
      "outputs": [
        {
          "output_type": "execute_result",
          "data": {
            "text/html": [
              "<div>\n",
              "<style scoped>\n",
              "    .dataframe tbody tr th:only-of-type {\n",
              "        vertical-align: middle;\n",
              "    }\n",
              "\n",
              "    .dataframe tbody tr th {\n",
              "        vertical-align: top;\n",
              "    }\n",
              "\n",
              "    .dataframe thead th {\n",
              "        text-align: right;\n",
              "    }\n",
              "</style>\n",
              "<table border=\"1\" class=\"dataframe\">\n",
              "  <thead>\n",
              "    <tr style=\"text-align: right;\">\n",
              "      <th></th>\n",
              "      <th>ham</th>\n",
              "      <th>spam</th>\n",
              "    </tr>\n",
              "    <tr>\n",
              "      <th>token</th>\n",
              "      <th></th>\n",
              "      <th></th>\n",
              "    </tr>\n",
              "  </thead>\n",
              "  <tbody>\n",
              "    <tr>\n",
              "      <th>very</th>\n",
              "      <td>64.0</td>\n",
              "      <td>2.0</td>\n",
              "    </tr>\n",
              "    <tr>\n",
              "      <th>nasty</th>\n",
              "      <td>1.0</td>\n",
              "      <td>1.0</td>\n",
              "    </tr>\n",
              "    <tr>\n",
              "      <th>villa</th>\n",
              "      <td>0.0</td>\n",
              "      <td>1.0</td>\n",
              "    </tr>\n",
              "    <tr>\n",
              "      <th>beloved</th>\n",
              "      <td>1.0</td>\n",
              "      <td>0.0</td>\n",
              "    </tr>\n",
              "    <tr>\n",
              "      <th>textoperator</th>\n",
              "      <td>0.0</td>\n",
              "      <td>2.0</td>\n",
              "    </tr>\n",
              "  </tbody>\n",
              "</table>\n",
              "</div>"
            ],
            "text/plain": [
              "               ham  spam\n",
              "token                   \n",
              "very          64.0   2.0\n",
              "nasty          1.0   1.0\n",
              "villa          0.0   1.0\n",
              "beloved        1.0   0.0\n",
              "textoperator   0.0   2.0"
            ]
          },
          "metadata": {
            "tags": []
          },
          "execution_count": 50
        }
      ]
    },
    {
      "cell_type": "code",
      "metadata": {
        "id": "t7Xz4qOBD512",
        "colab": {
          "base_uri": "https://localhost:8080/"
        },
        "outputId": "8bbbebd0-7025-4a0c-a898-7b55e99334b7"
      },
      "source": [
        "# Naive Bayes counts the number of observations in each class\n",
        "nb.class_count_"
      ],
      "execution_count": null,
      "outputs": [
        {
          "output_type": "execute_result",
          "data": {
            "text/plain": [
              "array([3617.,  562.])"
            ]
          },
          "metadata": {
            "tags": []
          },
          "execution_count": 51
        }
      ]
    },
    {
      "cell_type": "markdown",
      "metadata": {
        "id": "Lv6lx64gD515"
      },
      "source": [
        "Before we can calculate the \"spamminess\" of each token, we need to avoid **dividing by zero** and account for the **class imbalance**."
      ]
    },
    {
      "cell_type": "code",
      "metadata": {
        "id": "XTX9OX8YD515",
        "colab": {
          "base_uri": "https://localhost:8080/",
          "height": 231
        },
        "outputId": "99cb2357-6603-4281-bbde-7165bdaf144e"
      },
      "source": [
        "# add 1 to ham and spam counts to avoid dividing by 0\n",
        "tokens['ham'] = tokens.ham + 1\n",
        "tokens['spam'] = tokens.spam + 1\n",
        "tokens.sample(5, random_state=6)"
      ],
      "execution_count": null,
      "outputs": [
        {
          "output_type": "execute_result",
          "data": {
            "text/html": [
              "<div>\n",
              "<style scoped>\n",
              "    .dataframe tbody tr th:only-of-type {\n",
              "        vertical-align: middle;\n",
              "    }\n",
              "\n",
              "    .dataframe tbody tr th {\n",
              "        vertical-align: top;\n",
              "    }\n",
              "\n",
              "    .dataframe thead th {\n",
              "        text-align: right;\n",
              "    }\n",
              "</style>\n",
              "<table border=\"1\" class=\"dataframe\">\n",
              "  <thead>\n",
              "    <tr style=\"text-align: right;\">\n",
              "      <th></th>\n",
              "      <th>ham</th>\n",
              "      <th>spam</th>\n",
              "    </tr>\n",
              "    <tr>\n",
              "      <th>token</th>\n",
              "      <th></th>\n",
              "      <th></th>\n",
              "    </tr>\n",
              "  </thead>\n",
              "  <tbody>\n",
              "    <tr>\n",
              "      <th>very</th>\n",
              "      <td>65.0</td>\n",
              "      <td>3.0</td>\n",
              "    </tr>\n",
              "    <tr>\n",
              "      <th>nasty</th>\n",
              "      <td>2.0</td>\n",
              "      <td>2.0</td>\n",
              "    </tr>\n",
              "    <tr>\n",
              "      <th>villa</th>\n",
              "      <td>1.0</td>\n",
              "      <td>2.0</td>\n",
              "    </tr>\n",
              "    <tr>\n",
              "      <th>beloved</th>\n",
              "      <td>2.0</td>\n",
              "      <td>1.0</td>\n",
              "    </tr>\n",
              "    <tr>\n",
              "      <th>textoperator</th>\n",
              "      <td>1.0</td>\n",
              "      <td>3.0</td>\n",
              "    </tr>\n",
              "  </tbody>\n",
              "</table>\n",
              "</div>"
            ],
            "text/plain": [
              "               ham  spam\n",
              "token                   \n",
              "very          65.0   3.0\n",
              "nasty          2.0   2.0\n",
              "villa          1.0   2.0\n",
              "beloved        2.0   1.0\n",
              "textoperator   1.0   3.0"
            ]
          },
          "metadata": {
            "tags": []
          },
          "execution_count": 52
        }
      ]
    },
    {
      "cell_type": "code",
      "metadata": {
        "id": "3xOM5HYnD519",
        "colab": {
          "base_uri": "https://localhost:8080/",
          "height": 231
        },
        "outputId": "4c4e22c0-f69f-4ee1-9359-ccac44e7be04"
      },
      "source": [
        "# convert the ham and spam counts into frequencies\n",
        "tokens['ham'] = tokens.ham / nb.class_count_[0]\n",
        "tokens['spam'] = tokens.spam / nb.class_count_[1]\n",
        "tokens.sample(5, random_state=6)"
      ],
      "execution_count": null,
      "outputs": [
        {
          "output_type": "execute_result",
          "data": {
            "text/html": [
              "<div>\n",
              "<style scoped>\n",
              "    .dataframe tbody tr th:only-of-type {\n",
              "        vertical-align: middle;\n",
              "    }\n",
              "\n",
              "    .dataframe tbody tr th {\n",
              "        vertical-align: top;\n",
              "    }\n",
              "\n",
              "    .dataframe thead th {\n",
              "        text-align: right;\n",
              "    }\n",
              "</style>\n",
              "<table border=\"1\" class=\"dataframe\">\n",
              "  <thead>\n",
              "    <tr style=\"text-align: right;\">\n",
              "      <th></th>\n",
              "      <th>ham</th>\n",
              "      <th>spam</th>\n",
              "    </tr>\n",
              "    <tr>\n",
              "      <th>token</th>\n",
              "      <th></th>\n",
              "      <th></th>\n",
              "    </tr>\n",
              "  </thead>\n",
              "  <tbody>\n",
              "    <tr>\n",
              "      <th>very</th>\n",
              "      <td>0.017971</td>\n",
              "      <td>0.005338</td>\n",
              "    </tr>\n",
              "    <tr>\n",
              "      <th>nasty</th>\n",
              "      <td>0.000553</td>\n",
              "      <td>0.003559</td>\n",
              "    </tr>\n",
              "    <tr>\n",
              "      <th>villa</th>\n",
              "      <td>0.000276</td>\n",
              "      <td>0.003559</td>\n",
              "    </tr>\n",
              "    <tr>\n",
              "      <th>beloved</th>\n",
              "      <td>0.000553</td>\n",
              "      <td>0.001779</td>\n",
              "    </tr>\n",
              "    <tr>\n",
              "      <th>textoperator</th>\n",
              "      <td>0.000276</td>\n",
              "      <td>0.005338</td>\n",
              "    </tr>\n",
              "  </tbody>\n",
              "</table>\n",
              "</div>"
            ],
            "text/plain": [
              "                   ham      spam\n",
              "token                           \n",
              "very          0.017971  0.005338\n",
              "nasty         0.000553  0.003559\n",
              "villa         0.000276  0.003559\n",
              "beloved       0.000553  0.001779\n",
              "textoperator  0.000276  0.005338"
            ]
          },
          "metadata": {
            "tags": []
          },
          "execution_count": 53
        }
      ]
    },
    {
      "cell_type": "code",
      "metadata": {
        "id": "xv6leg-yD51_",
        "colab": {
          "base_uri": "https://localhost:8080/",
          "height": 231
        },
        "outputId": "24fd472b-a6cf-4fd3-868f-e1ea7f3919ca"
      },
      "source": [
        "# calculate the ratio of spam-to-ham for each token\n",
        "tokens['spam_to_ham_ratio'] = tokens.spam / tokens.ham\n",
        "tokens.sample(5, random_state=6)"
      ],
      "execution_count": null,
      "outputs": [
        {
          "output_type": "execute_result",
          "data": {
            "text/html": [
              "<div>\n",
              "<style scoped>\n",
              "    .dataframe tbody tr th:only-of-type {\n",
              "        vertical-align: middle;\n",
              "    }\n",
              "\n",
              "    .dataframe tbody tr th {\n",
              "        vertical-align: top;\n",
              "    }\n",
              "\n",
              "    .dataframe thead th {\n",
              "        text-align: right;\n",
              "    }\n",
              "</style>\n",
              "<table border=\"1\" class=\"dataframe\">\n",
              "  <thead>\n",
              "    <tr style=\"text-align: right;\">\n",
              "      <th></th>\n",
              "      <th>ham</th>\n",
              "      <th>spam</th>\n",
              "      <th>spam_to_ham_ratio</th>\n",
              "    </tr>\n",
              "    <tr>\n",
              "      <th>token</th>\n",
              "      <th></th>\n",
              "      <th></th>\n",
              "      <th></th>\n",
              "    </tr>\n",
              "  </thead>\n",
              "  <tbody>\n",
              "    <tr>\n",
              "      <th>very</th>\n",
              "      <td>0.017971</td>\n",
              "      <td>0.005338</td>\n",
              "      <td>0.297044</td>\n",
              "    </tr>\n",
              "    <tr>\n",
              "      <th>nasty</th>\n",
              "      <td>0.000553</td>\n",
              "      <td>0.003559</td>\n",
              "      <td>6.435943</td>\n",
              "    </tr>\n",
              "    <tr>\n",
              "      <th>villa</th>\n",
              "      <td>0.000276</td>\n",
              "      <td>0.003559</td>\n",
              "      <td>12.871886</td>\n",
              "    </tr>\n",
              "    <tr>\n",
              "      <th>beloved</th>\n",
              "      <td>0.000553</td>\n",
              "      <td>0.001779</td>\n",
              "      <td>3.217972</td>\n",
              "    </tr>\n",
              "    <tr>\n",
              "      <th>textoperator</th>\n",
              "      <td>0.000276</td>\n",
              "      <td>0.005338</td>\n",
              "      <td>19.307829</td>\n",
              "    </tr>\n",
              "  </tbody>\n",
              "</table>\n",
              "</div>"
            ],
            "text/plain": [
              "                   ham      spam  spam_to_ham_ratio\n",
              "token                                              \n",
              "very          0.017971  0.005338           0.297044\n",
              "nasty         0.000553  0.003559           6.435943\n",
              "villa         0.000276  0.003559          12.871886\n",
              "beloved       0.000553  0.001779           3.217972\n",
              "textoperator  0.000276  0.005338          19.307829"
            ]
          },
          "metadata": {
            "tags": []
          },
          "execution_count": 54
        }
      ]
    },
    {
      "cell_type": "code",
      "metadata": {
        "id": "Zi6X_6hjD52A",
        "colab": {
          "base_uri": "https://localhost:8080/",
          "height": 690
        },
        "outputId": "01b51541-9246-40d6-ab31-96524a9d11ba"
      },
      "source": [
        "# examine the DataFrame sorted by spam_ratio\n",
        "# note: use sort() instead of sort_values() for pandas 0.16.2 and earlier\n",
        "tokens.sort_values('spam_to_ham_ratio', ascending=False)[:20]"
      ],
      "execution_count": null,
      "outputs": [
        {
          "output_type": "execute_result",
          "data": {
            "text/html": [
              "<div>\n",
              "<style scoped>\n",
              "    .dataframe tbody tr th:only-of-type {\n",
              "        vertical-align: middle;\n",
              "    }\n",
              "\n",
              "    .dataframe tbody tr th {\n",
              "        vertical-align: top;\n",
              "    }\n",
              "\n",
              "    .dataframe thead th {\n",
              "        text-align: right;\n",
              "    }\n",
              "</style>\n",
              "<table border=\"1\" class=\"dataframe\">\n",
              "  <thead>\n",
              "    <tr style=\"text-align: right;\">\n",
              "      <th></th>\n",
              "      <th>ham</th>\n",
              "      <th>spam</th>\n",
              "      <th>spam_to_ham_ratio</th>\n",
              "    </tr>\n",
              "    <tr>\n",
              "      <th>token</th>\n",
              "      <th></th>\n",
              "      <th></th>\n",
              "      <th></th>\n",
              "    </tr>\n",
              "  </thead>\n",
              "  <tbody>\n",
              "    <tr>\n",
              "      <th>claim</th>\n",
              "      <td>0.000276</td>\n",
              "      <td>0.158363</td>\n",
              "      <td>572.798932</td>\n",
              "    </tr>\n",
              "    <tr>\n",
              "      <th>prize</th>\n",
              "      <td>0.000276</td>\n",
              "      <td>0.135231</td>\n",
              "      <td>489.131673</td>\n",
              "    </tr>\n",
              "    <tr>\n",
              "      <th>150p</th>\n",
              "      <td>0.000276</td>\n",
              "      <td>0.087189</td>\n",
              "      <td>315.361210</td>\n",
              "    </tr>\n",
              "    <tr>\n",
              "      <th>tone</th>\n",
              "      <td>0.000276</td>\n",
              "      <td>0.085409</td>\n",
              "      <td>308.925267</td>\n",
              "    </tr>\n",
              "    <tr>\n",
              "      <th>guaranteed</th>\n",
              "      <td>0.000276</td>\n",
              "      <td>0.076512</td>\n",
              "      <td>276.745552</td>\n",
              "    </tr>\n",
              "    <tr>\n",
              "      <th>18</th>\n",
              "      <td>0.000276</td>\n",
              "      <td>0.069395</td>\n",
              "      <td>251.001779</td>\n",
              "    </tr>\n",
              "    <tr>\n",
              "      <th>cs</th>\n",
              "      <td>0.000276</td>\n",
              "      <td>0.065836</td>\n",
              "      <td>238.129893</td>\n",
              "    </tr>\n",
              "    <tr>\n",
              "      <th>www</th>\n",
              "      <td>0.000553</td>\n",
              "      <td>0.129893</td>\n",
              "      <td>234.911922</td>\n",
              "    </tr>\n",
              "    <tr>\n",
              "      <th>1000</th>\n",
              "      <td>0.000276</td>\n",
              "      <td>0.056940</td>\n",
              "      <td>205.950178</td>\n",
              "    </tr>\n",
              "    <tr>\n",
              "      <th>awarded</th>\n",
              "      <td>0.000276</td>\n",
              "      <td>0.053381</td>\n",
              "      <td>193.078292</td>\n",
              "    </tr>\n",
              "    <tr>\n",
              "      <th>150ppm</th>\n",
              "      <td>0.000276</td>\n",
              "      <td>0.051601</td>\n",
              "      <td>186.642349</td>\n",
              "    </tr>\n",
              "    <tr>\n",
              "      <th>uk</th>\n",
              "      <td>0.000553</td>\n",
              "      <td>0.099644</td>\n",
              "      <td>180.206406</td>\n",
              "    </tr>\n",
              "    <tr>\n",
              "      <th>500</th>\n",
              "      <td>0.000276</td>\n",
              "      <td>0.048043</td>\n",
              "      <td>173.770463</td>\n",
              "    </tr>\n",
              "    <tr>\n",
              "      <th>ringtone</th>\n",
              "      <td>0.000276</td>\n",
              "      <td>0.044484</td>\n",
              "      <td>160.898577</td>\n",
              "    </tr>\n",
              "    <tr>\n",
              "      <th>000</th>\n",
              "      <td>0.000276</td>\n",
              "      <td>0.042705</td>\n",
              "      <td>154.462633</td>\n",
              "    </tr>\n",
              "    <tr>\n",
              "      <th>mob</th>\n",
              "      <td>0.000276</td>\n",
              "      <td>0.042705</td>\n",
              "      <td>154.462633</td>\n",
              "    </tr>\n",
              "    <tr>\n",
              "      <th>co</th>\n",
              "      <td>0.000553</td>\n",
              "      <td>0.078292</td>\n",
              "      <td>141.590747</td>\n",
              "    </tr>\n",
              "    <tr>\n",
              "      <th>collection</th>\n",
              "      <td>0.000276</td>\n",
              "      <td>0.039146</td>\n",
              "      <td>141.590747</td>\n",
              "    </tr>\n",
              "    <tr>\n",
              "      <th>valid</th>\n",
              "      <td>0.000276</td>\n",
              "      <td>0.037367</td>\n",
              "      <td>135.154804</td>\n",
              "    </tr>\n",
              "    <tr>\n",
              "      <th>2000</th>\n",
              "      <td>0.000276</td>\n",
              "      <td>0.037367</td>\n",
              "      <td>135.154804</td>\n",
              "    </tr>\n",
              "  </tbody>\n",
              "</table>\n",
              "</div>"
            ],
            "text/plain": [
              "                 ham      spam  spam_to_ham_ratio\n",
              "token                                            \n",
              "claim       0.000276  0.158363         572.798932\n",
              "prize       0.000276  0.135231         489.131673\n",
              "150p        0.000276  0.087189         315.361210\n",
              "tone        0.000276  0.085409         308.925267\n",
              "guaranteed  0.000276  0.076512         276.745552\n",
              "18          0.000276  0.069395         251.001779\n",
              "cs          0.000276  0.065836         238.129893\n",
              "www         0.000553  0.129893         234.911922\n",
              "1000        0.000276  0.056940         205.950178\n",
              "awarded     0.000276  0.053381         193.078292\n",
              "150ppm      0.000276  0.051601         186.642349\n",
              "uk          0.000553  0.099644         180.206406\n",
              "500         0.000276  0.048043         173.770463\n",
              "ringtone    0.000276  0.044484         160.898577\n",
              "000         0.000276  0.042705         154.462633\n",
              "mob         0.000276  0.042705         154.462633\n",
              "co          0.000553  0.078292         141.590747\n",
              "collection  0.000276  0.039146         141.590747\n",
              "valid       0.000276  0.037367         135.154804\n",
              "2000        0.000276  0.037367         135.154804"
            ]
          },
          "metadata": {
            "tags": []
          },
          "execution_count": 55
        }
      ]
    },
    {
      "cell_type": "code",
      "metadata": {
        "id": "wG0ymc-XD52C",
        "colab": {
          "base_uri": "https://localhost:8080/"
        },
        "outputId": "1a114993-7f59-42cc-b3b8-a46a0d7fbbb7"
      },
      "source": [
        "# look up the spam_ratio for a given token\n",
        "tokens.loc['dating', 'spam_to_ham_ratio']"
      ],
      "execution_count": null,
      "outputs": [
        {
          "output_type": "execute_result",
          "data": {
            "text/plain": [
              "83.66725978647686"
            ]
          },
          "metadata": {
            "tags": []
          },
          "execution_count": 56
        }
      ]
    },
    {
      "cell_type": "markdown",
      "metadata": {
        "id": "iMC5DG0iD52D"
      },
      "source": [
        "## Part 9: Tuning the vectorizer (discussion)\n",
        "\n",
        "Thus far, we have been using the default parameters of [CountVectorizer](http://scikit-learn.org/stable/modules/generated/sklearn.feature_extraction.text.CountVectorizer.html):"
      ]
    },
    {
      "cell_type": "code",
      "metadata": {
        "id": "2wNRga0ND52E",
        "colab": {
          "base_uri": "https://localhost:8080/"
        },
        "outputId": "10d1ce8c-65d8-4583-d24e-c273c307e36e"
      },
      "source": [
        "# show default parameters for CountVectorizer\n",
        "vect"
      ],
      "execution_count": null,
      "outputs": [
        {
          "output_type": "execute_result",
          "data": {
            "text/plain": [
              "CountVectorizer(analyzer='word', binary=False, decode_error='strict',\n",
              "                dtype=<class 'numpy.int64'>, encoding='utf-8', input='content',\n",
              "                lowercase=True, max_df=1.0, max_features=None, min_df=1,\n",
              "                ngram_range=(1, 1), preprocessor=None, stop_words=None,\n",
              "                strip_accents=None, token_pattern='(?u)\\\\b\\\\w\\\\w+\\\\b',\n",
              "                tokenizer=None, vocabulary=None)"
            ]
          },
          "metadata": {
            "tags": []
          },
          "execution_count": 57
        }
      ]
    },
    {
      "cell_type": "markdown",
      "metadata": {
        "id": "gbeOFke_D52F"
      },
      "source": [
        "However, the vectorizer is worth tuning, just like a model is worth tuning! Here are a few parameters that you might want to tune:\n",
        "\n",
        "- **stop_words:** string {'english'}, list, or None (default)\n",
        "    - If 'english', a built-in stop word list for English is used.\n",
        "    - If a list, that list is assumed to contain stop words, all of which will be removed from the resulting tokens.\n",
        "    - If None, no stop words will be used."
      ]
    },
    {
      "cell_type": "code",
      "metadata": {
        "id": "wvMWqzyED52G"
      },
      "source": [
        "# remove English stop words\n",
        "vect = CountVectorizer(stop_words='english')"
      ],
      "execution_count": null,
      "outputs": []
    },
    {
      "cell_type": "markdown",
      "metadata": {
        "id": "2XxhI-2DD52H"
      },
      "source": [
        "- **ngram_range:** tuple (min_n, max_n), default=(1, 1)\n",
        "    - The lower and upper boundary of the range of n-values for different n-grams to be extracted.\n",
        "    - All values of n such that min_n <= n <= max_n will be used."
      ]
    },
    {
      "cell_type": "code",
      "metadata": {
        "id": "xbaucrh8D52H"
      },
      "source": [
        "# include 1-grams and 2-grams\n",
        "vect = CountVectorizer(ngram_range=(1, 2))"
      ],
      "execution_count": null,
      "outputs": []
    },
    {
      "cell_type": "markdown",
      "metadata": {
        "id": "BjFCnF_fD52K"
      },
      "source": [
        "- **max_df:** float in range [0.0, 1.0] or int, default=1.0\n",
        "    - When building the vocabulary, ignore terms that have a document frequency strictly higher than the given threshold (corpus-specific stop words).\n",
        "    - If float, the parameter represents a proportion of documents.\n",
        "    - If integer, the parameter represents an absolute count."
      ]
    },
    {
      "cell_type": "code",
      "metadata": {
        "id": "_toAUoG3D52K"
      },
      "source": [
        "# ignore terms that appear in more than 50% of the documents\n",
        "vect = CountVectorizer(max_df=0.5)"
      ],
      "execution_count": null,
      "outputs": []
    },
    {
      "cell_type": "markdown",
      "metadata": {
        "id": "X34kiVa_D52M"
      },
      "source": [
        "- **min_df:** float in range [0.0, 1.0] or int, default=1\n",
        "    - When building the vocabulary, ignore terms that have a document frequency strictly lower than the given threshold. (This value is also called \"cut-off\" in the literature.)\n",
        "    - If float, the parameter represents a proportion of documents.\n",
        "    - If integer, the parameter represents an absolute count."
      ]
    },
    {
      "cell_type": "code",
      "metadata": {
        "id": "P8I8hxLKD52N"
      },
      "source": [
        "# only keep terms that appear in at least 2 documents\n",
        "vect = CountVectorizer(min_df=2)"
      ],
      "execution_count": null,
      "outputs": []
    },
    {
      "cell_type": "markdown",
      "metadata": {
        "id": "jfcJM8vND52O"
      },
      "source": [
        "**Guidelines for tuning CountVectorizer:**\n",
        "\n",
        "- Use your knowledge of the **problem** and the **text**, and your understanding of the **tuning parameters**, to help you decide what parameters to tune and how to tune them.\n",
        "- **Experiment**, and let the data tell you the best approach!"
      ]
    },
    {
      "cell_type": "code",
      "metadata": {
        "id": "Ds3qUzGrEyYk"
      },
      "source": [
        ""
      ],
      "execution_count": null,
      "outputs": []
    }
  ]
}